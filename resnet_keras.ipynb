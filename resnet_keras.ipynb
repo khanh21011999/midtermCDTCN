{
 "nbformat": 4,
 "nbformat_minor": 2,
 "metadata": {
  "language_info": {
   "name": "python",
   "codemirror_mode": {
    "name": "ipython",
    "version": 3
   },
   "version": "3.7.7-final"
  },
  "orig_nbformat": 2,
  "file_extension": ".py",
  "mimetype": "text/x-python",
  "name": "python",
  "npconvert_exporter": "python",
  "pygments_lexer": "ipython3",
  "version": 3,
  "kernelspec": {
   "name": "python37464bitbaseconda46b9756b844e4d57ad4ab8fa8e2caf9e",
   "display_name": "Python 3.7.4 64-bit ('base': conda)"
  }
 },
 "cells": [
  {
   "cell_type": "code",
   "execution_count": 3,
   "metadata": {},
   "outputs": [
    {
     "output_type": "stream",
     "name": "stdout",
     "text": "['batches.meta', 'data_batch_1', 'data_batch_2', 'data_batch_3', 'data_batch_4', 'data_batch_5', 'readme.html', 'test_batch']\n"
    }
   ],
   "source": [
    "from __future__ import print_function\n",
    "from keras.datasets import cifar10\n",
    "from keras.models import Model, Sequential\n",
    "from keras.layers import Input, Reshape, Dense, Dropout, Activation, Flatten, PReLU\n",
    "from keras.layers import Conv2D, MaxPooling2D, GlobalAveragePooling2D\n",
    "from keras.layers.normalization import BatchNormalization as BN\n",
    "from keras.layers import GaussianNoise as GN\n",
    "from keras.optimizers import SGD\n",
    "import keras.backend as K\n",
    "import numpy as np\n",
    "import os\n",
    "import tarfile\n",
    "import sys\n",
    "import pickle\n",
    "print(os.listdir(\"cifar-10-batches-py\"))\n",
    "import keras"
   ]
  },
  {
   "cell_type": "code",
   "execution_count": null,
   "metadata": {},
   "outputs": [],
   "source": [
    "def load_batch(fpath, label_key='labels'):\n",
    "    \"\"\"Internal utility for parsing CIFAR data.\n",
    "\n",
    "    # Arguments\n",
    "        fpath: path the file to parse.\n",
    "        label_key: key for label data in the retrieve\n",
    "            dictionary.\n",
    "\n",
    "    # Returns\n",
    "        A tuple `(data, labels)`.\n",
    "    \"\"\"\n",
    "    with open(fpath, 'rb') as f:\n",
    "        if sys.version_info < (3,):\n",
    "            d = pickle.load(f)\n",
    "        else:\n",
    "            d = pickle.load(f, encoding='bytes')\n",
    "            # decode utf8\n",
    "            d_decoded = {}\n",
    "            for k, v in d.items():\n",
    "                d_decoded[k.decode('utf8')] = v\n",
    "            d = d_decoded\n",
    "    data = d['data']\n",
    "    labels = d[label_key]\n",
    "\n",
    "    data = data.reshape(data.shape[0], 3, 32, 32)\n",
    "    return data, labels\n",
    "\n",
    "train_num = 50000\n",
    "x_train = np.zeros(shape=(train_num,3,32,32))\n",
    "y_train = np.zeros(shape=(train_num))\n",
    "\n",
    "test_num = 10000\n",
    "x_test = np.zeros(shape=(test_num,3,32,32))\n",
    "y_test = np.zeros(shape=(test_num))\n",
    "\n",
    "def load_data():\n",
    "    for i in range(1,6):\n",
    "        begin = (i-1)*10000\n",
    "        end = i*10000\n",
    "        x_train[begin:end,:,:,:],y_train[begin:end] = load_batch(\"cifar-10-batches-py/data_batch_\"+str(i))\n",
    "    \n",
    "    x_test[:],y_test[:] = load_batch(\"cifar-10-batches-py/test_batch\")\n",
    "\n",
    "load_data()\n",
    "if K.image_data_format() == 'channels_last':\n",
    "    x_test = x_test.transpose(0, 2, 3, 1)\n",
    "    x_train = x_train.transpose(0, 2, 3, 1)"
   ]
  }
 ]
}